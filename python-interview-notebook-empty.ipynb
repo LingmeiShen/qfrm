{
 "cells": [
  {
   "cell_type": "markdown",
   "metadata": {},
   "source": [
    "### 1.1\n",
    "What is the value of $\\sqrt{2}^{\\sqrt{2}^{{\\sqrt{2}^{...}}}}$?"
   ]
  },
  {
   "cell_type": "code",
   "execution_count": 21,
   "metadata": {
    "collapsed": false
   },
   "outputs": [
    {
     "name": "stdout",
     "output_type": "stream",
     "text": [
      "2.0\n"
     ]
    }
   ],
   "source": [
    "import math\n",
    "exponent=math.sqrt(2)\n",
    "for n in range(0,100):\n",
    "    exponent=math.sqrt(2)**exponent\n",
    "print exponent"
   ]
  },
  {
   "cell_type": "markdown",
   "metadata": {},
   "source": [
    "### 3.1\n",
    "You have a bag with two coins. One will come up heads 40% of the time, and the other will come up heads 60%. You pick a coin randomly, flip it and get a head. What is the probability it will be heads on the next flip?"
   ]
  },
  {
   "cell_type": "code",
   "execution_count": 34,
   "metadata": {
    "collapsed": false
   },
   "outputs": [
    {
     "name": "stdout",
     "output_type": "stream",
     "text": [
      "23896.0\n"
     ]
    }
   ],
   "source": [
    "import random as rnd\n",
    "heads=0\n",
    "for n in range(0,100000):\n",
    "    ccoin=math.floor(rnd.random()/0.5)\n",
    "    if ccoin==0:\n",
    "        coin1=math.floor(rnd.random()/0.6)\n",
    "        if coin1==1:\n",
    "            coin1=math.floor(rnd.random()/0.6)\n",
    "            heads+=coin1\n",
    "    else:\n",
    "        coin2=math.floor(rnd.random()/0.4)\n",
    "        if coin2==1:\n",
    "            coin2=math.floor(rnd.random()/0.4)\n",
    "            heads+=coin2\n",
    "print heads\n",
    "\n",
    "##need to be corrected, first flip won't effect the second one"
   ]
  },
  {
   "cell_type": "code",
   "execution_count": 41,
   "metadata": {
    "collapsed": false
   },
   "outputs": [
    {
     "name": "stdout",
     "output_type": "stream",
     "text": [
      "26083 49880 0.52291499599\n"
     ]
    }
   ],
   "source": [
    "import random as rnd\n",
    "#assume tails 0 , head 1\n",
    "\n",
    "def headsOrTails(probTails):\n",
    "    if rnd.random()<probTails:\n",
    "        return 0\n",
    "    return 1\n",
    "\n",
    "firstfliphead=0\n",
    "secondfliphead=0\n",
    "\n",
    "for trialCrt in range(0,100000):\n",
    "    if rnd.random()<0.5:\n",
    "        probTails=0.6\n",
    "    else:\n",
    "        probTails=0.4\n",
    "    coin=headsOrTails(probTails)\n",
    "    if coin==1:\n",
    "        firstfliphead+=1\n",
    "        secondfliphead+=headsOrTails(probTails)\n",
    "\n",
    "headest = float(secondfliphead)/float(firstfliphead) #turn into float to show percentage or \n",
    "#change 0 to 0.0\n",
    "print secondfliphead, firstfliphead, headest\n",
    "\n",
    "##"
   ]
  },
  {
   "cell_type": "markdown",
   "metadata": {},
   "source": [
    "### 3.1\n",
    "In front of you is a jar of 1000 coins. One of the coins has two heads, and the rest are fair coins. You choose a coin at random, and flip it ten times, getting all heads. What is the probability it is one of the fair coins?"
   ]
  },
  {
   "cell_type": "code",
   "execution_count": null,
   "metadata": {
    "collapsed": false
   },
   "outputs": [],
   "source": [
    "import random as rnd\n",
    "if rnd.random()<0.001:\n",
    "    Prob=1\n",
    "    else Prob=0.5\n",
    "heads=0\n",
    "for n in range(0,10000):\n",
    "    "
   ]
  },
  {
   "cell_type": "markdown",
   "metadata": {},
   "source": [
    "### 3.5\n",
    "Starting at one vertex of a cube, and moving randomly from vertex to adjacent vertices, what is the expected number of moves until you reach the  vertex opposite from your starting point?"
   ]
  },
  {
   "cell_type": "code",
   "execution_count": 57,
   "metadata": {
    "collapsed": false
   },
   "outputs": [
    {
     "name": "stdout",
     "output_type": "stream",
     "text": [
      "998970\n"
     ]
    }
   ],
   "source": [
    "import random as rnd\n",
    "steps=0\n",
    "\n",
    "def movestep(stage):\n",
    "    if stage==1:\n",
    "        return 2\n",
    "    elif stage==2:\n",
    "        if rnd.random()<2.0/3:\n",
    "            return 3\n",
    "        return 1\n",
    "    elif stage==3:\n",
    "        if rnd.random()<1.0/3:\n",
    "            return 4\n",
    "        return 2 \n",
    "\n",
    "stage=1\n",
    "for n in range(0,100000):\n",
    "    stage=1\n",
    "    while stage<4:\n",
    "        stage=movestep(stage)\n",
    "        steps+=1\n",
    "\n",
    "print steps"
   ]
  },
  {
   "cell_type": "markdown",
   "metadata": {},
   "source": [
    "### 3.8\n",
    "You have a spinner that generates random numbers that are uniform between 0 and 1. You sum the spins until the sum is greater than one. What is the expected number of spins?"
   ]
  },
  {
   "cell_type": "code",
   "execution_count": null,
   "metadata": {
    "collapsed": false
   },
   "outputs": [],
   "source": []
  },
  {
   "cell_type": "markdown",
   "metadata": {},
   "source": [
    "### 4.4\n",
    "You have a basket of $n$ assets. The asset returns are multivariate normal with zero mean. Correlation between any pair of assets is 1/2. What is the probability that $k$ of the assets will have positive return?"
   ]
  },
  {
   "cell_type": "code",
   "execution_count": null,
   "metadata": {
    "collapsed": false
   },
   "outputs": [],
   "source": []
  },
  {
   "cell_type": "markdown",
   "metadata": {},
   "source": [
    "### 3.10\n",
    "A stick is broken randomly into 3 pieces. What is the probability of the pieces being able to form a triangle?"
   ]
  },
  {
   "cell_type": "code",
   "execution_count": null,
   "metadata": {
    "collapsed": false
   },
   "outputs": [],
   "source": []
  },
  {
   "cell_type": "markdown",
   "metadata": {},
   "source": [
    "### 3.11\n",
    "A stick is broken randomly into two pieces. The larger piece is then broken randomly into two pieces. What is the probability of the pieces being able to form a triangle?"
   ]
  },
  {
   "cell_type": "code",
   "execution_count": null,
   "metadata": {
    "collapsed": false
   },
   "outputs": [],
   "source": []
  },
  {
   "cell_type": "markdown",
   "metadata": {},
   "source": [
    "### 5.10\n",
    "Suppose there are 36 students in the QFRM program, each assigned a unique integer from 1 to 36. Thirty-six quarters are laid out on a table in a row, heads up. Each student goes to the table, and if they are assigned the number $n$, they turn over the $n$th coin, the $2n$th coin, and so on. So, for example, the student who is assigned 15 will turn over the 15th and 30th coins. When everyone is done, how many tails are showing?"
   ]
  },
  {
   "cell_type": "code",
   "execution_count": null,
   "metadata": {
    "collapsed": false
   },
   "outputs": [],
   "source": []
  }
 ],
 "metadata": {
  "anaconda-cloud": {},
  "kernelspec": {
   "display_name": "Python [Root]",
   "language": "python",
   "name": "Python [Root]"
  },
  "language_info": {
   "codemirror_mode": {
    "name": "ipython",
    "version": 2
   },
   "file_extension": ".py",
   "mimetype": "text/x-python",
   "name": "python",
   "nbconvert_exporter": "python",
   "pygments_lexer": "ipython2",
   "version": "2.7.12"
  }
 },
 "nbformat": 4,
 "nbformat_minor": 0
}
