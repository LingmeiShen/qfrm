{
 "cells": [
  {
   "cell_type": "markdown",
   "metadata": {},
   "source": [
    "### 1.1\n",
    "What is the value of $\\sqrt{2}^{\\sqrt{2}^{{\\sqrt{2}^{...}}}}$?"
   ]
  },
  {
   "cell_type": "code",
   "execution_count": 21,
   "metadata": {
    "collapsed": false
   },
   "outputs": [
    {
     "name": "stdout",
     "output_type": "stream",
     "text": [
      "2.0\n"
     ]
    }
   ],
   "source": [
    "import math\n",
    "exponent=math.sqrt(2)\n",
    "for n in range(0,100):\n",
    "    exponent=math.sqrt(2)**exponent\n",
    "print exponent"
   ]
  },
  {
   "cell_type": "markdown",
   "metadata": {},
   "source": [
    "### 3.1 Object-oriented version\n",
    "Here we solve the same problem, introducing objects to Python.\n",
    "\n",
    "A simplistic approach to 00 design is to identify the nouns in the problem description, and consider those to be potential *classes*. A class is a template, sort of like a cookie cutter for stamping out identical objects, ready for use.\n",
    "\n",
    "In this problem, we see **coin** and **purse** in the problem description. So let's make them into classes.\n",
    "\n",
    "The *methods* of a class represent the actions we expect of the objects created from the class."
   ]
  },
  {
   "cell_type": "code",
   "execution_count": 61,
   "metadata": {
    "collapsed": false
   },
   "outputs": [
    {
     "name": "stdout",
     "output_type": "stream",
     "text": [
      "0.518709166502\n"
     ]
    }
   ],
   "source": [
    "##In Python, u can random choose a possibility, from a class of coins, for example.\n",
    "##class setup: class name(object), then def __init__(self,character)\n",
    "\n",
    "import numpy as np\n",
    "\n",
    "class Coin(object):#we capitalize the names of classes.\n",
    "    #define a constrctor, so that we can create instances(objects) of Coin:\n",
    "    def __init__(self, probHeads):#two underline!!\n",
    "        self.probHeads=probHeads\n",
    "        \n",
    "    def flipIsHead(self):\n",
    "        return np.random.random()<self.probHeads #it will return true or false\n",
    "    ##figure out random and its extension!\n",
    "    \n",
    "    def nextNFlipsAreHeads(self,n):\n",
    "        for i in range(n):\n",
    "            if not self.flipIsHead():\n",
    "                return False\n",
    "            return True\n",
    "                \n",
    "\n",
    "class CoinBag(object):\n",
    "    def __init__(self):\n",
    "        self.coins=[]\n",
    "    def addCoin(self,coin):\n",
    "        self.coins.append(coin)\n",
    "    def pickRandomCoin(self):\n",
    "        return np.random.choice(self.coins) #random.choice:choose from CoinBag\n",
    "\n",
    "cb = CoinBag()\n",
    "cb.addCoin(Coin(0.6))\n",
    "cb.addCoin(Coin(0.4))\n",
    "\n",
    "# print cb.pickRandomCoin().probHeads\n",
    "\n",
    "# c=Coin(0.6)\n",
    "# print c.probHeads\n",
    "\n",
    "firstFlipIsAHeadCounter=0\n",
    "secondFlipIsAHeadCounter=0\n",
    "for trialCtr in range(10000):\n",
    "    randomCoin=cb.pickRandomCoin()\n",
    "    if randomCoin.flipIsHead():\n",
    "        firstFlipIsAHeadCounter+=1\n",
    "        if randomCoin.flipIsHead():\n",
    "            secondFlipIsAHeadCounter+=1\n",
    "print float(secondFlipIsAHeadCounter)/firstFlipIsAHeadCounter\n",
    "        \n",
    "\n",
    "##needed to be added, check after class!"
   ]
  },
  {
   "cell_type": "code",
   "execution_count": 56,
   "metadata": {
    "collapsed": false
   },
   "outputs": [
    {
     "name": "stdout",
     "output_type": "stream",
     "text": [
      "515\n"
     ]
    }
   ],
   "source": [
    "# def nextNFlipsAreHeads(self,n):\n",
    "#         for i in range(n):\n",
    "#             if not self.flipIsHead():\n",
    "#                 return False\n",
    "\n",
    "#             return True\n",
    "kick=0\n",
    "for i in range(0,1000):\n",
    "    randomCoin=cb.pickRandomCoin()\n",
    "    if randomCoin.nextNFlipsAreHeads(10):\n",
    "        kick +=1\n",
    "print kick\n"
   ]
  },
  {
   "cell_type": "markdown",
   "metadata": {},
   "source": [
    "### 3.1\n",
    "You have a bag with two coins. One will come up heads 40% of the time, and the other will come up heads 60%. You pick a coin randomly, flip it and get a head. What is the probability it will be heads on the next flip?"
   ]
  },
  {
   "cell_type": "code",
   "execution_count": 34,
   "metadata": {
    "collapsed": false
   },
   "outputs": [
    {
     "name": "stdout",
     "output_type": "stream",
     "text": [
      "23896.0\n"
     ]
    }
   ],
   "source": [
    "import random as rnd\n",
    "heads=0\n",
    "for n in range(0,100000):\n",
    "    ccoin=math.floor(rnd.random()/0.5)\n",
    "    if ccoin==0:\n",
    "        coin1=math.floor(rnd.random()/0.6)\n",
    "        if coin1==1:\n",
    "            coin1=math.floor(rnd.random()/0.6)\n",
    "            heads+=coin1\n",
    "    else:\n",
    "        coin2=math.floor(rnd.random()/0.4)\n",
    "        if coin2==1:\n",
    "            coin2=math.floor(rnd.random()/0.4)\n",
    "            heads+=coin2\n",
    "print heads\n",
    "\n",
    "##need to be corrected, first flip won't effect the second one"
   ]
  },
  {
   "cell_type": "code",
   "execution_count": 41,
   "metadata": {
    "collapsed": false
   },
   "outputs": [
    {
     "name": "stdout",
     "output_type": "stream",
     "text": [
      "26083 49880 0.52291499599\n"
     ]
    }
   ],
   "source": [
    "import random as rnd\n",
    "#assume tails 0 , head 1\n",
    "\n",
    "def headsOrTails(probTails):\n",
    "    if rnd.random()<probTails:\n",
    "        return 0\n",
    "    return 1\n",
    "\n",
    "firstfliphead=0\n",
    "secondfliphead=0\n",
    "\n",
    "for trialCrt in range(0,100000):\n",
    "    if rnd.random()<0.5:\n",
    "        probTails=0.6\n",
    "    else:\n",
    "        probTails=0.4\n",
    "    coin=headsOrTails(probTails)\n",
    "    if coin==1:\n",
    "        firstfliphead+=1\n",
    "        secondfliphead+=headsOrTails(probTails)\n",
    "\n",
    "headest = float(secondfliphead)/float(firstfliphead) #turn into float to show percentage or \n",
    "#change 0 to 0.0\n",
    "print secondfliphead, firstfliphead, headest\n",
    "\n",
    "##"
   ]
  },
  {
   "cell_type": "markdown",
   "metadata": {},
   "source": [
    "### Monte Hall Problem\n",
    "You are a contestant on a game show. You have 3 doors in front of you. Behind two of the doors are goats. Unattractive goats. Behind the other door is a brand new Tesla. The game show host asks you to choose a door. After you do, he opens one of the remaining doors, and there stands a goat. The game show host asks you if you'd like to switch doors. What do you do?"
   ]
  },
  {
   "cell_type": "code",
   "execution_count": null,
   "metadata": {
    "collapsed": true
   },
   "outputs": [],
   "source": []
  },
  {
   "cell_type": "markdown",
   "metadata": {},
   "source": [
    "### 3.1\n",
    "In front of you is a jar of 1000 coins. One of the coins has two heads, and the rest are fair coins. You choose a coin at random, and flip it ten times, getting all heads. What is the probability it is one of the fair coins?"
   ]
  },
  {
   "cell_type": "code",
   "execution_count": 58,
   "metadata": {
    "collapsed": false
   },
   "outputs": [
    {
     "name": "stdout",
     "output_type": "stream",
     "text": [
      "504 502 0.996031746032\n"
     ]
    }
   ],
   "source": [
    "cb=CoinBag()\n",
    "cb.addCoin(Coin(1))\n",
    "[cb.addCoin(Coin(0.5)) for n in range(999)]\n",
    "trialCounter=0\n",
    "fairCoinCtr=0\n",
    "for i in range(1000):\n",
    "    randomCoin=cb.pickRandomCoin()\n",
    "    if randomCoin.nextNFlipsAreHeads(10):\n",
    "        trialCounter+=1\n",
    "        if randomCoin.probHeads<1:\n",
    "            fairCoinCtr+=1\n",
    "\n",
    "print trialCounter,fairCoinCtr,float(fairCoinCtr)/trialCounter\n"
   ]
  },
  {
   "cell_type": "code",
   "execution_count": 62,
   "metadata": {
    "collapsed": false
   },
   "outputs": [
    {
     "name": "stdout",
     "output_type": "stream",
     "text": [
      "510\n"
     ]
    }
   ],
   "source": [
    "# def nextNFlipsAreHeads(self,n):\n",
    "#         for i in range(n):\n",
    "#             if not self.flipIsHead():\n",
    "#                 return False\n",
    "\n",
    "#             return True\n",
    "kick=0\n",
    "for i in range(0,1000):\n",
    "    randomCoin=cb.pickRandomCoin()\n",
    "    if randomCoin.nextNFlipsAreHeads(10):\n",
    "        kick +=1\n",
    "print kick\n"
   ]
  },
  {
   "cell_type": "markdown",
   "metadata": {},
   "source": [
    "### 3.5\n",
    "Starting at one vertex of a cube, and moving randomly from vertex to adjacent vertices, what is the expected number of moves until you reach the  vertex opposite from your starting point?"
   ]
  },
  {
   "cell_type": "code",
   "execution_count": 1,
   "metadata": {
    "collapsed": false
   },
   "outputs": [
    {
     "name": "stdout",
     "output_type": "stream",
     "text": [
      "10005812\n"
     ]
    }
   ],
   "source": [
    "import random as rnd\n",
    "steps=0\n",
    "\n",
    "def movestep(stage):\n",
    "    if stage==1:\n",
    "        return 2\n",
    "    elif stage==2:\n",
    "        if rnd.random()<2.0/3:\n",
    "            return 3\n",
    "        return 1\n",
    "    elif stage==3:\n",
    "        if rnd.random()<1.0/3:\n",
    "            return 4\n",
    "        return 2 \n",
    "\n",
    "stage=1\n",
    "for n in range(0,1000000):\n",
    "    stage=1\n",
    "    while stage<4:\n",
    "        stage=movestep(stage)\n",
    "        steps+=1\n",
    "\n",
    "print steps"
   ]
  },
  {
   "cell_type": "markdown",
   "metadata": {},
   "source": [
    "### 3.8\n",
    "You have a spinner that generates random numbers that are uniform between 0 and 1. You sum the spins until the sum is greater than one. What is the expected number of spins?"
   ]
  },
  {
   "cell_type": "code",
   "execution_count": 70,
   "metadata": {
    "collapsed": false
   },
   "outputs": [
    {
     "name": "stdout",
     "output_type": "stream",
     "text": [
      "2.775\n"
     ]
    }
   ],
   "source": [
    "class Spinner(object):\n",
    "    def __init__(self):\n",
    "        self.total=0\n",
    "        self.num=0\n",
    "        \n",
    "    def spin(self):\n",
    "        self.total+=np.random.random()\n",
    "        self.num+=1\n",
    "        \n",
    "    def reset(self):\n",
    "        self.total=0\n",
    "        self.num=0\n",
    "\n",
    "    def spinUtilgreater1(self):##loop\n",
    "        while self.total<1:\n",
    "            self.spin()\n",
    "        answer=self.num ##count once, since it is hard to get total in def(restart from 0)\n",
    "        self.reset() ##remember to have bracelet\n",
    "        return answer ##return the result, or u will get nothing\n",
    "\n",
    "spinner=Spinner()##give a name\n",
    "\n",
    "Trial=1000 ##get interactive\n",
    "totalnum=0\n",
    "for n in range(Trial):\n",
    "    totalnum+=spinner.spinUtilgreater1() ##not totalnum+=answer, since the result of spinUtilgreater1 is just a result instead of answer\n",
    "print float(totalnum)/Trial  ##copy the names in case of wrong typing"
   ]
  },
  {
   "cell_type": "code",
   "execution_count": 78,
   "metadata": {
    "collapsed": false
   },
   "outputs": [
    {
     "name": "stdout",
     "output_type": "stream",
     "text": [
      "Populating the interactive namespace from numpy and matplotlib\n"
     ]
    },
    {
     "name": "stderr",
     "output_type": "stream",
     "text": [
      "/Applications/anaconda/lib/python2.7/site-packages/matplotlib/axes/_axes.py:6016: RuntimeWarning: invalid value encountered in true_divide\n",
      "  m = (m.astype(float) / db) / m.sum()\n"
     ]
    },
    {
     "data": {
      "text/plain": [
       "(array([ nan,  nan,  nan,  nan,  nan,  nan,  nan,  nan,  nan,  nan]),\n",
       " array([ 1.5,  1.6,  1.7,  1.8,  1.9,  2. ,  2.1,  2.2,  2.3,  2.4,  2.5]),\n",
       " <a list of 10 Patch objects>)"
      ]
     },
     "execution_count": 78,
     "metadata": {},
     "output_type": "execute_result"
    },
    {
     "data": {
      "image/png": "[encoded data removed]",
      "text/plain": [
       "<matplotlib.figure.Figure at 0x10d3d9790>"
      ]
     },
     "metadata": {},
     "output_type": "display_data"
    }
   ],
   "source": [
    "%pylab inline \n",
    "##get figure shown, not in the same line\n",
    "import matplotlib.pyplot as plt\n",
    "numbins=np.max(Trial)-np.min(Trial)\n",
    "plt.hist(Trial, normed=True, align='left', rwidth=0.3, range=(2,2+numbins))\n"
   ]
  },
  {
   "cell_type": "markdown",
   "metadata": {},
   "source": [
    "### 4.4\n",
    "You have a basket of $n$ assets. The asset returns are multivariate normal with zero mean. Correlation between any pair of assets is 1/2. What is the probability that $k$ of the assets will have positive return?"
   ]
  },
  {
   "cell_type": "code",
   "execution_count": null,
   "metadata": {
    "collapsed": false
   },
   "outputs": [],
   "source": []
  },
  {
   "cell_type": "markdown",
   "metadata": {},
   "source": [
    "### 3.10\n",
    "A stick is broken randomly into 3 pieces. What is the probability of the pieces being able to form a triangle?"
   ]
  },
  {
   "cell_type": "code",
   "execution_count": null,
   "metadata": {
    "collapsed": false
   },
   "outputs": [],
   "source": []
  },
  {
   "cell_type": "markdown",
   "metadata": {},
   "source": [
    "### 3.11\n",
    "A stick is broken randomly into two pieces. The larger piece is then broken randomly into two pieces. What is the probability of the pieces being able to form a triangle?"
   ]
  },
  {
   "cell_type": "code",
   "execution_count": null,
   "metadata": {
    "collapsed": false
   },
   "outputs": [],
   "source": []
  },
  {
   "cell_type": "markdown",
   "metadata": {},
   "source": [
    "### 5.10\n",
    "Suppose there are 36 students in the QFRM program, each assigned a unique integer from 1 to 36. Thirty-six quarters are laid out on a table in a row, heads up. Each student goes to the table, and if they are assigned the number $n$, they turn over the $n$th coin, the $2n$th coin, and so on. So, for example, the student who is assigned 15 will turn over the 15th and 30th coins. When everyone is done, how many tails are showing?"
   ]
  },
  {
   "cell_type": "code",
   "execution_count": null,
   "metadata": {
    "collapsed": false
   },
   "outputs": [],
   "source": []
  }
 ],
 "metadata": {
  "anaconda-cloud": {},
  "kernelspec": {
   "display_name": "Python [Root]",
   "language": "python",
   "name": "Python [Root]"
  },
  "language_info": {
   "codemirror_mode": {
    "name": "ipython",
    "version": 2
   },
   "file_extension": ".py",
   "mimetype": "text/x-python",
   "name": "python",
   "nbconvert_exporter": "python",
   "pygments_lexer": "ipython2",
   "version": "2.7.12"
  }
 },
 "nbformat": 4,
 "nbformat_minor": 0
}
